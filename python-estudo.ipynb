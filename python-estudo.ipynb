{
 "cells": [
  {
   "cell_type": "code",
   "execution_count": 1,
   "id": "every-breath",
   "metadata": {},
   "outputs": [
    {
     "name": "stdout",
     "output_type": "stream",
     "text": [
      "Hello world\n"
     ]
    }
   ],
   "source": [
    "print('Hello world')"
   ]
  },
  {
   "cell_type": "code",
   "execution_count": 10,
   "id": "signed-renaissance",
   "metadata": {},
   "outputs": [
    {
     "name": "stdout",
     "output_type": "stream",
     "text": [
      "Hello, World!\n",
      "H\n",
      "llo\n",
      "llo, World!\n",
      "Hello, World!Hello, World!\n",
      "Hello, World!!!\n"
     ]
    }
   ],
   "source": [
    "str = \"Hello, World!\"\n",
    "print(str)\n",
    "print(str[0])\n",
    "print(str[2:5])\n",
    "print(str[2:])\n",
    "print(str*2)\n",
    "print(str + \"!!\")"
   ]
  },
  {
   "cell_type": "code",
   "execution_count": 19,
   "id": "derived-involvement",
   "metadata": {},
   "outputs": [
    {
     "name": "stdout",
     "output_type": "stream",
     "text": [
      "['mary', 258, 13.67, 'text', 2]\n",
      "[158, 'mary']\n",
      "mary\n",
      "[258, 13.67]\n",
      "[13.67, 'text', 2]\n",
      "[158, 'mary', 158, 'mary']\n",
      "['mary', 258, 13.67, 'text', 2, 158, 'mary']\n"
     ]
    }
   ],
   "source": [
    "list1 = [\"mary\", 258, 13.67, \"text\", 12]\n",
    "list2 = [158, \"mary\"]\n",
    "\n",
    "print(list1)\n",
    "print(list2)\n",
    "\n",
    "print (list1[0])\n",
    "print (list1[1:3])\n",
    "print (list1[2:])\n",
    "print (list2 *2)\n",
    "print (list1 + list2)"
   ]
  },
  {
   "cell_type": "code",
   "execution_count": 24,
   "id": "northern-swift",
   "metadata": {},
   "outputs": [
    {
     "name": "stdout",
     "output_type": "stream",
     "text": [
      "('mary', 258, 13.67, 'text', 12)\n",
      "(158, 'mary')\n",
      "mary\n",
      "(258, 13.67)\n",
      "(13.67, 'text', 12)\n",
      "(158, 'mary', 158, 'mary')\n",
      "('mary', 258, 13.67, 'text', 12, 158, 'mary')\n"
     ]
    }
   ],
   "source": [
    "tuple1 = ('mary', 258, 13.67, 'text', 12)\n",
    "tuple2 = (158, 'mary')\n",
    "\n",
    "print (tuple1)\n",
    "print (tuple2)\n",
    "\n",
    "print (tuple1[0])\n",
    "print (tuple1[1:3])\n",
    "print (tuple1[2:])\n",
    "print (tuple2 * 2)\n",
    "print (tuple1 + tuple2)"
   ]
  },
  {
   "cell_type": "code",
   "execution_count": 28,
   "id": "measured-robin",
   "metadata": {
    "scrolled": false
   },
   "outputs": [
    {
     "name": "stdout",
     "output_type": "stream",
     "text": [
      "{'one': 'This is one', 2: 'This is two'}\n",
      "This is one\n",
      "This is two\n",
      "{'name': 'john', 'code': 6734, 'dept': 'sales'}\n",
      "dict_keys(['name', 'code', 'dept'])\n",
      "dict_values(['john', 6734, 'sales'])\n"
     ]
    }
   ],
   "source": [
    "dict1 = {}\n",
    "dict1['one'] = \"This is one\"\n",
    "dict1[2] = \"This is two\"\n",
    "\n",
    "dict2 = {'name': 'john', 'code': 6734, 'dept': 'sales'}\n",
    "\n",
    "print (dict1)\n",
    "print (dict1['one'])\n",
    "print (dict1[2])\n",
    "\n",
    "print (dict2)\n",
    "print (dict2.keys())\n",
    "print (dict2.values())"
   ]
  },
  {
   "cell_type": "code",
   "execution_count": 30,
   "id": "unlike-invalid",
   "metadata": {},
   "outputs": [
    {
     "name": "stdout",
     "output_type": "stream",
     "text": [
      "0.0\n"
     ]
    }
   ],
   "source": [
    "valor = 0\n",
    "\n",
    "valor += 3\n",
    "\n",
    "valor -= 1\n",
    "\n",
    "valor *= 3\n",
    "\n",
    "valor /= 2\n",
    "\n",
    "valor %= 2\n",
    "\n",
    "valor **= 5\n",
    "\n",
    "valor //= 2\n",
    "\n",
    "print (valor)"
   ]
  },
  {
   "cell_type": "code",
   "execution_count": 32,
   "id": "convenient-forum",
   "metadata": {},
   "outputs": [
    {
     "name": "stdout",
     "output_type": "stream",
     "text": [
      "False\n"
     ]
    }
   ],
   "source": [
    "age = 32\n",
    "salary = 35000\n",
    "print((age > 25) and (salary > 40000))"
   ]
  },
  {
   "cell_type": "code",
   "execution_count": 34,
   "id": "working-collar",
   "metadata": {},
   "outputs": [
    {
     "name": "stdout",
     "output_type": "stream",
     "text": [
      "T h i s   i s   a   s t r i n g False\n",
      "True\n",
      "False\n",
      "This is a string\n"
     ]
    }
   ],
   "source": [
    "s = 'This is a string'\n",
    "\n",
    "for c in s:\n",
    "    print (c, end= \" \")\n",
    "    \n",
    "print ('p' in s)\n",
    "print (' ' in s)\n",
    "print ('y' in s)\n",
    "\n",
    "print (s)"
   ]
  },
  {
   "cell_type": "code",
   "execution_count": 36,
   "id": "fresh-comedy",
   "metadata": {},
   "outputs": [
    {
     "name": "stdout",
     "output_type": "stream",
     "text": [
      "a is not available in the given list\n",
      "b is available in the given list\n"
     ]
    }
   ],
   "source": [
    "a = 10\n",
    "b = 20\n",
    "list = [1, 2, 3, 4, 5]\n",
    "\n",
    "if (a in list):\n",
    "    print(\"a is available in the given list\")\n",
    "else:\n",
    "    print(\"a is not available in the given list\")\n",
    "    \n",
    "if (b not in list):\n",
    "    print(\"b is not available in the given list\")\n",
    "else:\n",
    "    print(\"b is available in the given list\")"
   ]
  },
  {
   "cell_type": "code",
   "execution_count": null,
   "id": "democratic-value",
   "metadata": {},
   "outputs": [],
   "source": []
  }
 ],
 "metadata": {
  "kernelspec": {
   "display_name": "Python 3",
   "language": "python",
   "name": "python3"
  },
  "language_info": {
   "codemirror_mode": {
    "name": "ipython",
    "version": 3
   },
   "file_extension": ".py",
   "mimetype": "text/x-python",
   "name": "python",
   "nbconvert_exporter": "python",
   "pygments_lexer": "ipython3",
   "version": "3.7.10"
  }
 },
 "nbformat": 4,
 "nbformat_minor": 5
}
